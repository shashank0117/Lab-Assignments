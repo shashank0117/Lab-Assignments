{
 "cells": [
  {
   "cell_type": "markdown",
   "metadata": {},
   "source": [
    "# Similarity between two documents"
   ]
  },
  {
   "cell_type": "markdown",
   "metadata": {},
   "source": [
    "We calculate similarity between two documents as a similarity measure between two vectors. We convert the documents into vectors and we use a similarity measure between two vectors to calculate similarity between two documents"
   ]
  },
  {
   "cell_type": "code",
   "execution_count": 26,
   "metadata": {},
   "outputs": [],
   "source": [
    "# creating a corpus of two documents\n",
    "\n",
    "corpus = ['''One of the the finer books I read this year was John Kaags Hiking with Nietzsche, in which Kaag, a professor of philosophy, rekindles his passion for the German thinker while tracing picturesque iking trails in the mountains of Switzerland. \n",
    "It's a near precise rendering of the travelogue as a self help book. A young Kaag was an avowed Nietzsche acolyte but given the ravages of responsibilities and adulthood, the writer put his affinity to test by undertaking physically enduring hikes through the Alps, revisiting haunts that the philosopher escaped to, in search of solitude and salve. The journey's demands, coupled with his own inner turmoil, are catnip for anybody feeling at cross purposes with their own life.\n",
    "In the book, Kaag qyites Neitzsche writing to his mother after he had spent time in Splugen, \"I was overcome by the desire to remain here... this high alpine valley... There are pure, strong gusts of air, hills and boulders of all shapes... But what pleases me the most are the splendid highroads over which I walk for hours.\" Travel as the answer to searching questions is harddly a radical idea but what's endearing about the book is that it subtly confirms a basic tenet of why we go on these journeys in the first place. Sometimes, being on the move matters more than anything else.''' ,\n",
    "         \n",
    "         '''Summer is a charming flirt. Easygoing and casual. summer doesn't huff and puff to win our affections. It has us at \"Hello.\" Winter broods like the tortured protagonist of big fat Russian novel. It is daunting and dramatic, burning with a slow intensity.\n",
    "The season's reputation precedes itslef, and often, not in a good way. It has a way of whittling down everything to its bare bones. Even relationships not attuned to its ebbs and flows can fray. At a dinner conversation I once attended, I listened in bemusement as a recent divorcee made the case that it was the Scandinavian frost that had cooled his ex-wife's ardour. How original.\n",
    "''']\n"
   ]
  },
  {
   "cell_type": "code",
   "execution_count": 27,
   "metadata": {},
   "outputs": [
    {
     "name": "stdout",
     "output_type": "stream",
     "text": [
      "one of the the finer book I read thi year wa john kaag hike with nietzsche, in which kaag, a professor of philosophy, rekindl hi passion for the german thinker while trace picturesqu ike trail in the mountain of switzerland. \n",
      "it' a near precis render of the travelogu as a self help book. A young kaag wa an avow nietzsch acolyt but given the ravag of respons and adulthood, the writer put hi affin to test by undertak physic endur hike through the alps, revisit haunt that the philosoph escap to, in search of solitud and salve. the journey' demands, coupl with hi own inner turmoil, are catnip for anybodi feel at cross purpos with their own life.\n",
      "in the book, kaag qyit neitzsch write to hi mother after he had spent time in splugen, \"I wa overcom by the desir to remain here... thi high alpin valley... there are pure, strong gust of air, hill and boulder of all shapes... but what pleas me the most are the splendid highroad over which I walk for hours.\" travel as the answer to search question is harddli a radic idea but what' endear about the book is that it subtli confirm a basic tenet of whi we go on these journey in the first place. sometimes, be on the move matter more than anyth else.\n",
      "\n",
      "\n",
      "summer is a charm flirt. easygo and casual. summer doesn't huff and puff to win our affections. It ha us at \"hello.\" winter brood like the tortur protagonist of big fat russian novel. It is daunt and dramatic, burn with a slow intensity.\n",
      "th season' reput preced itslef, and often, not in a good way. It ha a way of whittl down everyth to it bare bones. even relationship not attun to it ebb and flow can fray. At a dinner convers I onc attended, I listen in bemus as a recent divorce made the case that it wa the scandinavian frost that had cool hi ex-wife' ardour. how original.\n",
      "\n",
      "\n",
      "\n"
     ]
    }
   ],
   "source": [
    "# Preprocessing\n",
    "\n",
    "# 1. Stemming\n",
    "import nltk\n",
    "from nltk.stem import PorterStemmer\n",
    "stemmer = PorterStemmer()\n",
    "\n",
    "for i in corpus:\n",
    "    example = i\n",
    "    example = [stemmer.stem(token) for token in example.split(\" \")]\n",
    "    print(\" \".join(example))\n",
    "    print(\"\\n\")"
   ]
  },
  {
   "cell_type": "code",
   "execution_count": 28,
   "metadata": {},
   "outputs": [
    {
     "name": "stdout",
     "output_type": "stream",
     "text": [
      "One of the the finer book I read this year wa John Kaags Hiking with Nietzsche, in which Kaag, a professor of philosophy, rekindles his passion for the German thinker while tracing picturesque iking trail in the mountain of Switzerland. \n",
      "It's a near precise rendering of the travelogue a a self help book. A young Kaag wa an avowed Nietzsche acolyte but given the ravage of responsibility and adulthood, the writer put his affinity to test by undertaking physically enduring hike through the Alps, revisiting haunt that the philosopher escaped to, in search of solitude and salve. The journey's demands, coupled with his own inner turmoil, are catnip for anybody feeling at cross purpose with their own life.\n",
      "In the book, Kaag qyites Neitzsche writing to his mother after he had spent time in Splugen, \"I wa overcome by the desire to remain here... this high alpine valley... There are pure, strong gust of air, hill and boulder of all shapes... But what plea me the most are the splendid highroad over which I walk for hours.\" Travel a the answer to searching question is harddly a radical idea but what's endearing about the book is that it subtly confirms a basic tenet of why we go on these journey in the first place. Sometimes, being on the move matter more than anything else.\n",
      "\n",
      "\n",
      "Summer is a charming flirt. Easygoing and casual. summer doesn't huff and puff to win our affections. It ha u at \"Hello.\" Winter brood like the tortured protagonist of big fat Russian novel. It is daunting and dramatic, burning with a slow intensity.\n",
      "The season's reputation precedes itslef, and often, not in a good way. It ha a way of whittling down everything to it bare bones. Even relationship not attuned to it ebb and flow can fray. At a dinner conversation I once attended, I listened in bemusement a a recent divorcee made the case that it wa the Scandinavian frost that had cooled his ex-wife's ardour. How original.\n",
      "\n",
      "\n",
      "\n"
     ]
    }
   ],
   "source": [
    "# 2. Lemmatization\n",
    "\n",
    "import nltk\n",
    "from nltk.stem import WordNetLemmatizer\n",
    "lemmatizer = WordNetLemmatizer()\n",
    "\n",
    "for i in corpus:\n",
    "    example = i\n",
    "    example = [lemmatizer.lemmatize(token) for token in example.split(\" \")]\n",
    "    print(\" \".join(example))\n",
    "    print(\"\\n\")"
   ]
  },
  {
   "cell_type": "code",
   "execution_count": 29,
   "metadata": {},
   "outputs": [
    {
     "name": "stdout",
     "output_type": "stream",
     "text": [
      "['about', 'acolyte', 'adulthood', 'affections', 'affinity', 'after', 'air', 'all', 'alpine', 'alps', 'an', 'and', 'answer', 'anybody', 'anything', 'ardour', 'are', 'as', 'at', 'attended', 'attuned', 'avowed', 'bare', 'basic', 'being', 'bemusement', 'big', 'bones', 'book', 'books', 'boulders', 'broods', 'burning', 'but', 'by', 'can', 'case', 'casual', 'catnip', 'charming', 'confirms', 'conversation', 'cooled', 'coupled', 'cross', 'daunting', 'demands', 'desire', 'dinner', 'divorcee', 'doesn', 'down', 'dramatic', 'easygoing', 'ebbs', 'else', 'endearing', 'enduring', 'escaped', 'even', 'everything', 'ex', 'fat', 'feeling', 'finer', 'first', 'flirt', 'flows', 'for', 'fray', 'frost', 'german', 'given', 'go', 'good', 'gusts', 'had', 'harddly', 'has', 'haunts', 'he', 'hello', 'help', 'here', 'high', 'highroads', 'hikes', 'hiking', 'hills', 'his', 'hours', 'how', 'huff', 'idea', 'iking', 'in', 'inner', 'intensity', 'is', 'it', 'its', 'itslef', 'john', 'journey', 'journeys', 'kaag', 'kaags', 'life', 'like', 'listened', 'made', 'matters', 'me', 'more', 'most', 'mother', 'mountains', 'move', 'near', 'neitzsche', 'nietzsche', 'not', 'novel', 'of', 'often', 'on', 'once', 'one', 'original', 'our', 'over', 'overcome', 'own', 'passion', 'philosopher', 'philosophy', 'physically', 'picturesque', 'place', 'pleases', 'precedes', 'precise', 'professor', 'protagonist', 'puff', 'pure', 'purposes', 'put', 'questions', 'qyites', 'radical', 'ravages', 'read', 'recent', 'rekindles', 'relationships', 'remain', 'rendering', 'reputation', 'responsibilities', 'revisiting', 'russian', 'salve', 'scandinavian', 'search', 'searching', 'season', 'self', 'shapes', 'slow', 'solitude', 'sometimes', 'spent', 'splendid', 'splugen', 'strong', 'subtly', 'summer', 'switzerland', 'tenet', 'test', 'than', 'that', 'the', 'their', 'there', 'these', 'thinker', 'this', 'through', 'time', 'to', 'tortured', 'tracing', 'trails', 'travel', 'travelogue', 'turmoil', 'undertaking', 'us', 'valley', 'walk', 'was', 'way', 'we', 'what', 'which', 'while', 'whittling', 'why', 'wife', 'win', 'winter', 'with', 'writer', 'writing', 'year', 'young']\n",
      "\n",
      "\n",
      "[[1 1 1 0 1 1 1 1 1 1 1 1 1 1 1 0 1 1 1 0 0 1 0 1 1 0 0 0 1 1 1 0 0 1 1 0\n",
      "  0 0 1 0 1 0 0 1 1 0 1 1 0 0 0 0 0 0 0 1 1 1 1 0 0 0 0 1 1 1 0 0 1 0 0 1\n",
      "  1 1 0 1 1 1 0 1 1 0 1 1 1 1 1 1 1 1 1 0 0 1 1 1 1 0 1 1 0 0 1 1 1 1 1 1\n",
      "  0 0 0 1 1 1 1 1 1 1 1 1 1 0 0 1 0 1 0 1 0 0 1 1 1 1 1 1 1 1 1 1 0 1 1 0\n",
      "  0 1 1 1 1 1 1 1 1 0 1 0 1 1 0 1 1 0 1 0 1 1 0 1 1 0 1 1 1 1 1 1 1 0 1 1\n",
      "  1 1 1 1 1 1 1 1 1 1 1 1 0 1 1 1 1 1 1 0 1 1 1 0 1 1 1 1 0 1 0 0 0 1 1 1\n",
      "  1 1]\n",
      " [0 0 0 1 0 0 0 0 0 0 0 1 0 0 0 1 0 1 1 1 1 0 1 0 0 1 1 1 0 0 0 1 1 0 0 1\n",
      "  1 1 0 1 0 1 1 0 0 1 0 0 1 1 1 1 1 1 1 0 0 0 0 1 1 1 1 0 0 0 1 1 0 1 1 0\n",
      "  0 0 1 0 1 0 1 0 0 1 0 0 0 0 0 0 0 1 0 1 1 0 0 1 0 1 1 1 1 1 0 0 0 0 0 0\n",
      "  1 1 1 0 0 0 0 0 0 0 0 0 0 1 1 1 1 0 1 0 1 1 0 0 0 0 0 0 0 0 0 0 1 0 0 1\n",
      "  1 0 0 0 0 0 0 0 0 1 0 1 0 0 1 0 0 1 0 1 0 0 1 0 0 1 0 0 0 0 0 0 0 1 0 0\n",
      "  0 0 1 1 0 0 0 0 0 0 0 1 1 0 0 0 0 0 0 1 0 0 1 1 0 0 0 0 1 0 1 1 1 1 0 0\n",
      "  0 0]]\n"
     ]
    }
   ],
   "source": [
    "# Feature Engineering \n",
    "\n",
    "# 1. CountVectors\n",
    "\n",
    "from sklearn.feature_extraction.text import CountVectorizer\n",
    "\n",
    "vectorizer = CountVectorizer( binary = True)\n",
    "X = vectorizer.fit_transform(corpus)\n",
    "print(vectorizer.get_feature_names())\n",
    "print(\"\\n\")\n",
    "print(X.toarray())"
   ]
  },
  {
   "cell_type": "code",
   "execution_count": 30,
   "metadata": {},
   "outputs": [
    {
     "name": "stdout",
     "output_type": "stream",
     "text": [
      "['about', 'acolyte', 'adulthood', 'affections', 'affinity', 'after', 'air', 'all', 'alpine', 'alps', 'an', 'and', 'answer', 'anybody', 'anything', 'ardour', 'are', 'as', 'at', 'attended', 'attuned', 'avowed', 'bare', 'basic', 'being', 'bemusement', 'big', 'bones', 'book', 'books', 'boulders', 'broods', 'burning', 'but', 'by', 'can', 'case', 'casual', 'catnip', 'charming', 'confirms', 'conversation', 'cooled', 'coupled', 'cross', 'daunting', 'demands', 'desire', 'dinner', 'divorcee', 'doesn', 'down', 'dramatic', 'easygoing', 'ebbs', 'else', 'endearing', 'enduring', 'escaped', 'even', 'everything', 'ex', 'fat', 'feeling', 'finer', 'first', 'flirt', 'flows', 'for', 'fray', 'frost', 'german', 'given', 'go', 'good', 'gusts', 'had', 'harddly', 'has', 'haunts', 'he', 'hello', 'help', 'here', 'high', 'highroads', 'hikes', 'hiking', 'hills', 'his', 'hours', 'how', 'huff', 'idea', 'iking', 'in', 'inner', 'intensity', 'is', 'it', 'its', 'itslef', 'john', 'journey', 'journeys', 'kaag', 'kaags', 'life', 'like', 'listened', 'made', 'matters', 'me', 'more', 'most', 'mother', 'mountains', 'move', 'near', 'neitzsche', 'nietzsche', 'not', 'novel', 'of', 'often', 'on', 'once', 'one', 'original', 'our', 'over', 'overcome', 'own', 'passion', 'philosopher', 'philosophy', 'physically', 'picturesque', 'place', 'pleases', 'precedes', 'precise', 'professor', 'protagonist', 'puff', 'pure', 'purposes', 'put', 'questions', 'qyites', 'radical', 'ravages', 'read', 'recent', 'rekindles', 'relationships', 'remain', 'rendering', 'reputation', 'responsibilities', 'revisiting', 'russian', 'salve', 'scandinavian', 'search', 'searching', 'season', 'self', 'shapes', 'slow', 'solitude', 'sometimes', 'spent', 'splendid', 'splugen', 'strong', 'subtly', 'summer', 'switzerland', 'tenet', 'test', 'than', 'that', 'the', 'their', 'there', 'these', 'thinker', 'this', 'through', 'time', 'to', 'tortured', 'tracing', 'trails', 'travel', 'travelogue', 'turmoil', 'undertaking', 'us', 'valley', 'walk', 'was', 'way', 'we', 'what', 'which', 'while', 'whittling', 'why', 'wife', 'win', 'winter', 'with', 'writer', 'writing', 'year', 'young']\n",
      "\n",
      "\n",
      "[[0.04638434 0.04638434 0.04638434 0.         0.04638434 0.04638434\n",
      "  0.04638434 0.04638434 0.04638434 0.04638434 0.04638434 0.09900851\n",
      "  0.04638434 0.04638434 0.04638434 0.         0.13915301 0.06600567\n",
      "  0.03300284 0.         0.         0.04638434 0.         0.04638434\n",
      "  0.04638434 0.         0.         0.         0.13915301 0.04638434\n",
      "  0.04638434 0.         0.         0.13915301 0.09276867 0.\n",
      "  0.         0.         0.04638434 0.         0.04638434 0.\n",
      "  0.         0.04638434 0.04638434 0.         0.04638434 0.04638434\n",
      "  0.         0.         0.         0.         0.         0.\n",
      "  0.         0.04638434 0.04638434 0.04638434 0.04638434 0.\n",
      "  0.         0.         0.         0.04638434 0.04638434 0.04638434\n",
      "  0.         0.         0.13915301 0.         0.         0.04638434\n",
      "  0.04638434 0.04638434 0.         0.04638434 0.03300284 0.04638434\n",
      "  0.         0.04638434 0.04638434 0.         0.04638434 0.04638434\n",
      "  0.04638434 0.04638434 0.04638434 0.04638434 0.04638434 0.13201135\n",
      "  0.04638434 0.         0.         0.04638434 0.04638434 0.19801702\n",
      "  0.04638434 0.         0.06600567 0.06600567 0.         0.\n",
      "  0.04638434 0.04638434 0.04638434 0.13915301 0.04638434 0.04638434\n",
      "  0.         0.         0.         0.04638434 0.04638434 0.04638434\n",
      "  0.04638434 0.04638434 0.04638434 0.04638434 0.04638434 0.04638434\n",
      "  0.09276867 0.         0.         0.29702553 0.         0.09276867\n",
      "  0.         0.04638434 0.         0.         0.04638434 0.04638434\n",
      "  0.09276867 0.04638434 0.04638434 0.04638434 0.04638434 0.04638434\n",
      "  0.04638434 0.04638434 0.         0.04638434 0.04638434 0.\n",
      "  0.         0.04638434 0.04638434 0.04638434 0.04638434 0.04638434\n",
      "  0.04638434 0.04638434 0.04638434 0.         0.04638434 0.\n",
      "  0.04638434 0.04638434 0.         0.04638434 0.04638434 0.\n",
      "  0.04638434 0.         0.04638434 0.04638434 0.         0.04638434\n",
      "  0.04638434 0.         0.04638434 0.04638434 0.04638434 0.04638434\n",
      "  0.04638434 0.04638434 0.04638434 0.         0.04638434 0.04638434\n",
      "  0.04638434 0.04638434 0.06600567 0.59405107 0.04638434 0.04638434\n",
      "  0.04638434 0.04638434 0.09276867 0.04638434 0.04638434 0.16501419\n",
      "  0.         0.04638434 0.04638434 0.04638434 0.04638434 0.04638434\n",
      "  0.04638434 0.         0.04638434 0.04638434 0.09900851 0.\n",
      "  0.04638434 0.09276867 0.09276867 0.04638434 0.         0.04638434\n",
      "  0.         0.         0.         0.09900851 0.04638434 0.04638434\n",
      "  0.04638434 0.04638434]]\n",
      "\n",
      "\n",
      "[[0.         0.         0.         0.08836481 0.         0.\n",
      "  0.         0.         0.         0.         0.         0.31436145\n",
      "  0.         0.         0.         0.08836481 0.         0.06287229\n",
      "  0.12574458 0.08836481 0.08836481 0.         0.08836481 0.\n",
      "  0.         0.08836481 0.08836481 0.08836481 0.         0.\n",
      "  0.         0.08836481 0.08836481 0.         0.         0.08836481\n",
      "  0.08836481 0.08836481 0.         0.08836481 0.         0.08836481\n",
      "  0.08836481 0.         0.         0.08836481 0.         0.\n",
      "  0.08836481 0.08836481 0.08836481 0.08836481 0.08836481 0.08836481\n",
      "  0.08836481 0.         0.         0.         0.         0.08836481\n",
      "  0.08836481 0.08836481 0.08836481 0.         0.         0.\n",
      "  0.08836481 0.08836481 0.         0.08836481 0.08836481 0.\n",
      "  0.         0.         0.08836481 0.         0.06287229 0.\n",
      "  0.17672962 0.         0.         0.08836481 0.         0.\n",
      "  0.         0.         0.         0.         0.         0.06287229\n",
      "  0.         0.08836481 0.08836481 0.         0.         0.12574458\n",
      "  0.         0.08836481 0.12574458 0.25148916 0.17672962 0.08836481\n",
      "  0.         0.         0.         0.         0.         0.\n",
      "  0.08836481 0.08836481 0.08836481 0.         0.         0.\n",
      "  0.         0.         0.         0.         0.         0.\n",
      "  0.         0.17672962 0.08836481 0.12574458 0.08836481 0.\n",
      "  0.08836481 0.         0.08836481 0.08836481 0.         0.\n",
      "  0.         0.         0.         0.         0.         0.\n",
      "  0.         0.         0.08836481 0.         0.         0.08836481\n",
      "  0.08836481 0.         0.         0.         0.         0.\n",
      "  0.         0.         0.         0.08836481 0.         0.08836481\n",
      "  0.         0.         0.08836481 0.         0.         0.08836481\n",
      "  0.         0.08836481 0.         0.         0.08836481 0.\n",
      "  0.         0.08836481 0.         0.         0.         0.\n",
      "  0.         0.         0.         0.17672962 0.         0.\n",
      "  0.         0.         0.12574458 0.25148916 0.         0.\n",
      "  0.         0.         0.         0.         0.         0.18861687\n",
      "  0.08836481 0.         0.         0.         0.         0.\n",
      "  0.         0.08836481 0.         0.         0.06287229 0.17672962\n",
      "  0.         0.         0.         0.         0.08836481 0.\n",
      "  0.08836481 0.08836481 0.08836481 0.06287229 0.         0.\n",
      "  0.         0.        ]]\n"
     ]
    }
   ],
   "source": [
    "# 2. TF-IDF Vectors\n",
    "\n",
    "from sklearn.feature_extraction.text import TfidfVectorizer\n",
    "\n",
    "vectorizer = TfidfVectorizer()\n",
    "Y = vectorizer.fit_transform(corpus)\n",
    "print(vectorizer.get_feature_names())\n",
    "print(\"\\n\")\n",
    "print(Y[0].toarray())\n",
    "print(\"\\n\")\n",
    "print(Y[1].toarray())"
   ]
  },
  {
   "cell_type": "code",
   "execution_count": 31,
   "metadata": {},
   "outputs": [
    {
     "name": "stdout",
     "output_type": "stream",
     "text": [
      "[[0.12658932]]\n",
      "[[0.33821912]]\n"
     ]
    }
   ],
   "source": [
    "# Calculate Cosine Similarity\n",
    "\n",
    "from sklearn.metrics.pairwise import cosine_similarity\n",
    "similarity_1 = cosine_similarity(X[0] , X[1])\n",
    "similarity_2 = cosine_similarity(Y[0] , Y[1])\n",
    "print(similarity_1)\n",
    "print(similarity_2)"
   ]
  },
  {
   "cell_type": "code",
   "execution_count": null,
   "metadata": {},
   "outputs": [],
   "source": []
  }
 ],
 "metadata": {
  "kernelspec": {
   "display_name": "virtualenv",
   "language": "python",
   "name": "virtualenv"
  },
  "language_info": {
   "codemirror_mode": {
    "name": "ipython",
    "version": 3
   },
   "file_extension": ".py",
   "mimetype": "text/x-python",
   "name": "python",
   "nbconvert_exporter": "python",
   "pygments_lexer": "ipython3",
   "version": "3.5.5"
  }
 },
 "nbformat": 4,
 "nbformat_minor": 2
}
